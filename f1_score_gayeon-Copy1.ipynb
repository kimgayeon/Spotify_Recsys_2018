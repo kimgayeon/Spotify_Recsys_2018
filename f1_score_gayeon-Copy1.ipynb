{
 "cells": [
  {
   "cell_type": "code",
   "execution_count": 1,
   "metadata": {
    "collapsed": true
   },
   "outputs": [],
   "source": [
    "import pandas as pd\n",
    "import numpy as np\n",
    "import matplotlib.pyplot as plt"
   ]
  },
  {
   "cell_type": "markdown",
   "metadata": {},
   "source": [
    "# training output "
   ]
  },
  {
   "cell_type": "code",
   "execution_count": 399,
   "metadata": {
    "collapsed": true
   },
   "outputs": [],
   "source": [
    "f = open(\"./Data/SVD/SVDRec0512_5_10.txt\", \"r\")\n",
    "track_lists = []\n",
    "\n",
    "line = f.readline()\n",
    "track_lists.append(line.split(\"@\"))\n",
    "\n",
    "f.close()\n",
    "final_lists = []\n",
    "\n",
    "for li in track_lists[0]:\n",
    "    final_lists.append(li.split(\",\"))"
   ]
  },
  {
   "cell_type": "markdown",
   "metadata": {
    "scrolled": true
   },
   "source": [
    "cnt = [0 for i in range(500)]  # 추천 개수 별 리스트수\n",
    "max = -1  #최대 추천개수\n",
    "for i in range(len(final_lists)):\n",
    "    if max < len(final_lists[i]):\n",
    "        max = len(final_lists[i])\n",
    "    cnt[len(final_lists[i])] += 1\n",
    "print(cnt)\n",
    "print(max)"
   ]
  },
  {
   "cell_type": "code",
   "execution_count": 400,
   "metadata": {},
   "outputs": [
    {
     "data": {
      "text/plain": [
       "601"
      ]
     },
     "execution_count": 400,
     "metadata": {},
     "output_type": "execute_result"
    }
   ],
   "source": [
    "len(final_lists)"
   ]
  },
  {
   "cell_type": "code",
   "execution_count": 401,
   "metadata": {},
   "outputs": [
    {
     "data": {
      "text/plain": [
       "['']"
      ]
     },
     "execution_count": 401,
     "metadata": {},
     "output_type": "execute_result"
    }
   ],
   "source": [
    "final_lists.pop()"
   ]
  },
  {
   "cell_type": "markdown",
   "metadata": {},
   "source": [
    "# test set"
   ]
  },
  {
   "cell_type": "code",
   "execution_count": 393,
   "metadata": {
    "collapsed": true
   },
   "outputs": [],
   "source": [
    "f2 = open(\"./Data/SVD/svd_real_test_transactions.txt\", \"r\")\n",
    "test_track_lists = []\n",
    "while True:\n",
    "    line = f2.readline()\n",
    "    test_track_lists.append(line.split(\",\"))\n",
    "    if not line:\n",
    "        break      \n",
    "f2.close()"
   ]
  },
  {
   "cell_type": "code",
   "execution_count": 394,
   "metadata": {},
   "outputs": [
    {
     "data": {
      "text/plain": [
       "9631"
      ]
     },
     "execution_count": 394,
     "metadata": {},
     "output_type": "execute_result"
    }
   ],
   "source": [
    "len(test_track_lists)"
   ]
  },
  {
   "cell_type": "code",
   "execution_count": 395,
   "metadata": {},
   "outputs": [
    {
     "data": {
      "text/plain": [
       "['']"
      ]
     },
     "execution_count": 395,
     "metadata": {},
     "output_type": "execute_result"
    }
   ],
   "source": [
    "test_track_lists[9630]"
   ]
  },
  {
   "cell_type": "code",
   "execution_count": 396,
   "metadata": {},
   "outputs": [
    {
     "data": {
      "text/plain": [
       "['spotify:track:3zhhodaafBjP2sBifgN90h',\n",
       " 'spotify:track:0v8Z7XdNKwVpcnSwKVUBLt',\n",
       " 'spotify:track:3GNb4oUI6Xur4QutxNhtF3',\n",
       " 'spotify:track:5wf44V7x2Ltpv4ZKQm31Mf',\n",
       " 'spotify:track:69DR48pXzSabFUfQfDDJDb',\n",
       " 'spotify:track:28cnXtME493VX9NOw9cIUh',\n",
       " 'spotify:track:3iBemYZi4lw53UYDlxqMlw',\n",
       " 'spotify:track:3VSW7iXXxXMPBULAXLhEGc',\n",
       " 'spotify:track:3zpui4CLRf1zu4etxqWjYb',\n",
       " 'spotify:track:2FviG1Ma0M0BSZbqaDvw0x',\n",
       " 'spotify:track:2N3F1EQCpnIeDOA3rLSAfE',\n",
       " 'spotify:track:6QgEK6fTnReKyNoCp0Toms',\n",
       " 'spotify:track:3Xy1YJHRVKApMDqp8gmkWe',\n",
       " 'spotify:track:7fQiyhKIvvKEJ0tnfrw1xh\\r\\n']"
      ]
     },
     "execution_count": 396,
     "metadata": {},
     "output_type": "execute_result"
    }
   ],
   "source": [
    "test_track_lists[8]"
   ]
  },
  {
   "cell_type": "markdown",
   "metadata": {},
   "source": [
    "# compare"
   ]
  },
  {
   "cell_type": "code",
   "execution_count": 397,
   "metadata": {
    "collapsed": true
   },
   "outputs": [],
   "source": [
    "for i in range(len(final_lists)):\n",
    "    final_lists[i] = list(set(final_lists[i]))  # 중복제거"
   ]
  },
  {
   "cell_type": "markdown",
   "metadata": {},
   "source": [
    "test값으로 track처음 10개 주어졌을때 "
   ]
  },
  {
   "cell_type": "code",
   "execution_count": 402,
   "metadata": {},
   "outputs": [
    {
     "name": "stdout",
     "output_type": "stream",
     "text": [
      "precision :0.01566666666666667\n",
      "recall : 0.0031058624341039898\n",
      "f1-score : 0.0038583639696999714\n"
     ]
    }
   ],
   "source": [
    "def result(recommend_track, real_track):\n",
    "    recall_list = []\n",
    "    precision_list = []\n",
    "    f1_score = []\n",
    "    idx = 0\n",
    "    for i in range(len(recommend_track)):\n",
    "        cnt = 0\n",
    "        if len(real_track[i]) == 10: #track 개수가 10개이면 skip\n",
    "            continue\n",
    "        for j in range(10, len(real_track[i])): #추천하는 트랙과 실제 트랙의 교집합 개수\n",
    "            if(real_track[i][j] in recommend_track[i][0:len(real_track[i])-10]):\n",
    "                cnt+=1\n",
    "        recall_list.append(cnt*1.0 / (len(real_track[i])-10))\n",
    "        precision_list.append(cnt*1.0 / len(recommend_track[i]))\n",
    "        \n",
    "        if(precision_list[idx] == 0 and recall_list[idx] == 0):\n",
    "            f1_score.append(0)\n",
    "        else:\n",
    "            f1_score.append(2.0 * precision_list[idx]* recall_list[idx] / (precision_list[idx] + recall_list[idx]))\n",
    "        idx+=1 \n",
    "    \n",
    "    print(\"precision :\" +  str(np.mean(precision_list)))    \n",
    "    print(\"recall : \" + str(np.mean(recall_list)))\n",
    "   \n",
    "     \n",
    "    print(\"f1-score : \" + str(np.mean(f1_score)))\n",
    "    \n",
    "result(final_lists, test_track_lists)\n"
   ]
  },
  {
   "cell_type": "code",
   "execution_count": null,
   "metadata": {
    "collapsed": true
   },
   "outputs": [],
   "source": []
  },
  {
   "cell_type": "code",
   "execution_count": null,
   "metadata": {
    "collapsed": true
   },
   "outputs": [],
   "source": []
  }
 ],
 "metadata": {
  "kernelspec": {
   "display_name": "Python 2",
   "language": "python",
   "name": "python2"
  },
  "language_info": {
   "codemirror_mode": {
    "name": "ipython",
    "version": 2
   },
   "file_extension": ".py",
   "mimetype": "text/x-python",
   "name": "python",
   "nbconvert_exporter": "python",
   "pygments_lexer": "ipython2",
   "version": "2.7.12"
  }
 },
 "nbformat": 4,
 "nbformat_minor": 2
}
